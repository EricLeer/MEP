{
 "cells": [
  {
   "cell_type": "code",
   "execution_count": 1,
   "metadata": {
    "collapsed": true
   },
   "outputs": [],
   "source": [
    "from collections import namedtuple\n",
    "import pandas as pd\n",
    "%matplotlib inline"
   ]
  },
  {
   "cell_type": "code",
   "execution_count": 101,
   "metadata": {
    "collapsed": true
   },
   "outputs": [],
   "source": [
    "def loadData(filename, colx, coly):    \n",
    "    DataArr = namedtuple('DataArr', 'bias voltage1 voltage2')\n",
    "    with open(filename) as f:\n",
    "        lines = f.readlines()\n",
    "\n",
    "        bias = []\n",
    "        voltage1 = []\n",
    "        voltage2 = []\n",
    "        colxData = []\n",
    "        colyData = []\n",
    "        dataDict = {}\n",
    "        biasArr = []\n",
    "        for line in lines[52:-1]:\n",
    "            #print(str(line[0:5]))\n",
    "            data = line.split()\n",
    "            if len(data) > 0:\n",
    "                B = float(data[1])\n",
    "                colxData.append(float(data[colx]))\n",
    "                colyData.append(float(data[coly]))\n",
    "                #voltage2.append(float(data[4]))\n",
    "            elif not type(B) == bool:\n",
    "                dataDict[B] = voltage1\n",
    "                biasArr.append(bias)\n",
    "                bias = []\n",
    "                voltage1 = []\n",
    "                #voltage2 = []\n",
    "                B = False\n",
    "    return colxData, colyData"
   ]
  },
  {
   "cell_type": "markdown",
   "metadata": {},
   "source": [
    "# etching depth = 72nm"
   ]
  },
  {
   "cell_type": "code",
   "execution_count": 121,
   "metadata": {},
   "outputs": [],
   "source": [
    "filename1 = 'D:\\eleerssen\\Data\\InAs_Mesa_Test\\JJ_mesa_test_L05_D72_2.dat'\n",
    "voltage, current = loadData(filename1,0,3)\n",
    "dfL05D72 = pd.DataFrame({'current':current, 'voltage':voltage})\n",
    "dfL05D72['resistance'] = dfL05D72['voltage']/dfL05D72['current']"
   ]
  },
  {
   "cell_type": "code",
   "execution_count": 122,
   "metadata": {},
   "outputs": [],
   "source": [
    "filename1 = 'D:\\eleerssen\\Data\\InAs_Mesa_Test\\JJ_mesa_test_L1_D72_1.dat'\n",
    "voltage, current = loadData(filename1,0,3)\n",
    "dfL1D72 = pd.DataFrame({'current':current, 'voltage':voltage})\n",
    "dfL1D72['resistance'] = dfL1D72['voltage']/dfL1D72['current']"
   ]
  },
  {
   "cell_type": "code",
   "execution_count": 123,
   "metadata": {
    "collapsed": true
   },
   "outputs": [],
   "source": [
    "filename1 = 'D:\\eleerssen\\Data\\InAs_Mesa_Test\\JJ_mesa_test_L2_D72_2.dat'\n",
    "voltage, current = loadData(filename1,0,3)\n",
    "dfL2D72 = pd.DataFrame({'current':current, 'voltage':voltage})\n",
    "dfL2D72['resistance'] = dfL2D72['voltage']/dfL2D72['current']"
   ]
  },
  {
   "cell_type": "code",
   "execution_count": 125,
   "metadata": {},
   "outputs": [],
   "source": [
    "filename1 = 'D:\\eleerssen\\Data\\InAs_Mesa_Test\\JJ_mesa_test_L5_D72_1.dat'\n",
    "voltage, current = loadData(filename1,0,3)\n",
    "dfL5D72 = pd.DataFrame({'current':current, 'voltage':voltage})\n",
    "dfL5D72['resistance'] = dfL5D72['voltage']/dfL5D72['current']"
   ]
  },
  {
   "cell_type": "code",
   "execution_count": 130,
   "metadata": {
    "collapsed": true
   },
   "outputs": [],
   "source": [
    "filename1 = 'D:\\eleerssen\\Data\\InAs_Mesa_Test\\JJ_mesa_test_L10_D72_1.dat'\n",
    "voltage, current = loadData(filename1,0,3)\n",
    "dfL10D72 = pd.DataFrame({'current':current, 'voltage':voltage})\n",
    "dfL10D72['resistance'] = dfL10D72['voltage']/dfL10D72['current']"
   ]
  },
  {
   "cell_type": "code",
   "execution_count": 151,
   "metadata": {
    "collapsed": true
   },
   "outputs": [],
   "source": [
    "filename1 = 'D:\\eleerssen\\Data\\InAs_Mesa_Test\\JJ_mesa_test_L20_D72_1.dat'\n",
    "voltage, current = loadData(filename1,0,3)\n",
    "#dfL20D72 = pd.DataFrame(data=current, index=voltage, columns=['L20 D72'])\n",
    "dfL20D72 = pd.DataFrame({'current':current, 'voltage':voltage})\n",
    "dfL20D72['resistance'] = dfL20D72['voltage']/dfL20D72['current']"
   ]
  },
  {
   "cell_type": "markdown",
   "metadata": {},
   "source": [
    "# etching depth = 98nm"
   ]
  },
  {
   "cell_type": "code",
   "execution_count": 170,
   "metadata": {},
   "outputs": [],
   "source": [
    "filename1 = 'D:\\eleerssen\\Data\\InAs_Mesa_Test\\JJ_mesa_test_L05_D98_1.dat'\n",
    "voltage, current = loadData(filename1,0,3)\n",
    "dfL05D98 = pd.DataFrame({'current':current, 'voltage':voltage})\n",
    "dfL05D98['voltage']=dfL05D98['voltage']*15/1000\n",
    "dfL05D98['resistance'] = dfL05D98['voltage']/dfL05D98['current']"
   ]
  },
  {
   "cell_type": "code",
   "execution_count": 171,
   "metadata": {
    "collapsed": true
   },
   "outputs": [],
   "source": [
    "filename1 = 'D:\\eleerssen\\Data\\InAs_Mesa_Test\\JJ_mesa_test_L1_D98_1.dat'\n",
    "voltage, current = loadData(filename1,0,3)\n",
    "dfL1D98 = pd.DataFrame({'current':current, 'voltage':voltage})\n",
    "dfL1D98['voltage']=dfL1D98['voltage']*15/1000\n",
    "dfL1D98['resistance'] = dfL1D98['voltage']/dfL1D98['current']"
   ]
  },
  {
   "cell_type": "code",
   "execution_count": 174,
   "metadata": {
    "collapsed": true
   },
   "outputs": [],
   "source": [
    "filename1 = 'D:\\eleerssen\\Data\\InAs_Mesa_Test\\JJ_mesa_test_L2_D98_1.dat'\n",
    "voltage, current = loadData(filename1,0,3)\n",
    "dfL2D98 = pd.DataFrame({'current':current, 'voltage':voltage})\n",
    "dfL2D98['voltage']=dfL2D98['voltage']*15/1000\n",
    "dfL2D98['resistance'] = dfL2D98['voltage']/dfL2D98['current']"
   ]
  },
  {
   "cell_type": "code",
   "execution_count": 177,
   "metadata": {
    "collapsed": true
   },
   "outputs": [],
   "source": [
    "filename1 = 'D:\\eleerssen\\Data\\InAs_Mesa_Test\\JJ_mesa_test_L5_D98_1.dat'\n",
    "voltage, current = loadData(filename1,0,3)\n",
    "dfL5D98 = pd.DataFrame({'current':current, 'voltage':voltage})\n",
    "dfL5D98['voltage']=dfL5D98['voltage']*15/1000\n",
    "dfL5D98['resistance'] = dfL5D98['voltage']/dfL5D98['current']"
   ]
  },
  {
   "cell_type": "code",
   "execution_count": 180,
   "metadata": {
    "collapsed": true
   },
   "outputs": [],
   "source": [
    "filename1 = 'D:\\eleerssen\\Data\\InAs_Mesa_Test\\JJ_mesa_test_L10_D98_1.dat'\n",
    "voltage, current = loadData(filename1,0,3)\n",
    "dfL10D98 = pd.DataFrame({'current':current, 'voltage':voltage})\n",
    "dfL10D98['voltage']=dfL10D98['voltage']*15/1000\n",
    "dfL10D98['resistance'] = dfL10D98['voltage']/dfL10D98['current']"
   ]
  },
  {
   "cell_type": "code",
   "execution_count": 185,
   "metadata": {
    "collapsed": true
   },
   "outputs": [],
   "source": [
    "filename1 = 'D:\\eleerssen\\Data\\InAs_Mesa_Test\\JJ_mesa_test_L20_D98_1.dat'\n",
    "voltage, current = loadData(filename1,0,3)\n",
    "dfL20D98 = pd.DataFrame({'current':current, 'voltage':voltage})\n",
    "dfL20D98['voltage']=dfL20D98['voltage']*15/1000\n",
    "dfL20D98['resistance'] = dfL20D98['voltage']/dfL20D98['current']"
   ]
  },
  {
   "cell_type": "code",
   "execution_count": 65,
   "metadata": {},
   "outputs": [],
   "source": [
    "filename1 = 'D:\\eleerssen\\Data\\InAs_Mesa_Test\\JJ_mesa_test_L50_D123_2.dat'\n",
    "voltage, current = loadData(filename1,0,3)\n",
    "#dfL50D123 = pd.DataFrame(data=current, index=voltage, columns=['L50 D123'])\n",
    "dfL50D123 = pd.DataFrame({'current':current, 'voltage':voltage})"
   ]
  },
  {
   "cell_type": "markdown",
   "metadata": {},
   "source": [
    "# etching depth = 123nm"
   ]
  },
  {
   "cell_type": "code",
   "execution_count": 190,
   "metadata": {},
   "outputs": [],
   "source": [
    "filename1 = 'D:\\eleerssen\\Data\\InAs_Mesa_Test\\JJ_mesa_test_L05_D123_1.dat'\n",
    "voltage, current = loadData(filename1,0,3)\n",
    "dfL05D123 = pd.DataFrame({'current':current, 'voltage':voltage})\n",
    "dfL05D123['voltage']=dfL05D123['voltage'] #*15/1000\n",
    "dfL05D123['resistance'] = dfL05D123['voltage']/dfL05D123['current']"
   ]
  },
  {
   "cell_type": "code",
   "execution_count": 192,
   "metadata": {
    "collapsed": true
   },
   "outputs": [],
   "source": [
    "filename1 = 'D:\\eleerssen\\Data\\InAs_Mesa_Test\\JJ_mesa_test_L1_D123_1.dat'\n",
    "voltage, current = loadData(filename1,0,3)\n",
    "dfL1D123 = pd.DataFrame({'current':current, 'voltage':voltage})\n",
    "dfL1D123['voltage']=dfL1D123['voltage'] #*15/1000\n",
    "dfL1D123['resistance'] = dfL1D123['voltage']/dfL1D123['current']"
   ]
  },
  {
   "cell_type": "code",
   "execution_count": 194,
   "metadata": {
    "collapsed": true
   },
   "outputs": [],
   "source": [
    "filename1 = 'D:\\eleerssen\\Data\\InAs_Mesa_Test\\JJ_mesa_test_L2_D123_1.dat'\n",
    "voltage, current = loadData(filename1,0,3)\n",
    "dfL2D123 = pd.DataFrame({'current':current, 'voltage':voltage})\n",
    "dfL2D123['voltage']=dfL2D123['voltage'] #*15/1000\n",
    "dfL2D123['resistance'] = dfL2D123['voltage']/dfL2D123['current']"
   ]
  },
  {
   "cell_type": "code",
   "execution_count": 215,
   "metadata": {
    "collapsed": true
   },
   "outputs": [],
   "source": [
    "filename1 = 'D:\\eleerssen\\Data\\InAs_Mesa_Test\\JJ_mesa_test_L5_D123_1.dat'\n",
    "voltage, current = loadData(filename1,0,3)\n",
    "dfL5D123low = pd.DataFrame({'current':current, 'voltage':voltage})\n",
    "dfL5D123low['voltage']=dfL5D123low['voltage']/1000\n",
    "dfL5D123low['resistance'] = dfL5D123low['voltage']/dfL5D123low['current']"
   ]
  },
  {
   "cell_type": "code",
   "execution_count": 211,
   "metadata": {
    "collapsed": true
   },
   "outputs": [],
   "source": [
    "filename1 = 'D:\\eleerssen\\Data\\InAs_Mesa_Test\\JJ_mesa_test_L5_D123_2.dat'\n",
    "voltage, current = loadData(filename1,0,3)\n",
    "dfL5D123 = pd.DataFrame({'current':current, 'voltage':voltage})\n",
    "dfL5D123['voltage']=dfL5D123['voltage'] *15/1000\n",
    "dfL5D123['resistance'] = dfL5D123['voltage']/dfL5D123['current']"
   ]
  },
  {
   "cell_type": "code",
   "execution_count": 240,
   "metadata": {},
   "outputs": [],
   "source": [
    "filename1 = 'D:\\eleerssen\\Data\\InAs_Mesa_Test\\JJ_mesa_test_L20_D123_2.dat'\n",
    "voltage, current = loadData(filename1,0,3)\n",
    "dfL20D123 = pd.DataFrame({'current':current, 'voltage':voltage})\n",
    "dfL20D123['voltage']=dfL20D123['voltage'] *15/1000\n",
    "dfL20D123['resistance'] = dfL20D123['voltage']/dfL20D123['current']"
   ]
  },
  {
   "cell_type": "markdown",
   "metadata": {},
   "source": [
    "# etching depth 160nm"
   ]
  },
  {
   "cell_type": "code",
   "execution_count": 247,
   "metadata": {
    "collapsed": true
   },
   "outputs": [],
   "source": [
    "filename1 = 'D:\\eleerssen\\Data\\InAs_Mesa_Test\\JJ_mesa_test_L05_D160_1.dat'\n",
    "voltage, current = loadData(filename1,0,3)\n",
    "dfL05D160 = pd.DataFrame({'current':current, 'voltage':voltage})\n",
    "dfL05D160['voltage']=dfL05D160['voltage'] *15/1000\n",
    "dfL05D160['resistance'] = dfL05D160['voltage']/dfL05D160['current']"
   ]
  },
  {
   "cell_type": "code",
   "execution_count": 251,
   "metadata": {
    "collapsed": true
   },
   "outputs": [],
   "source": [
    "filename1 = 'D:\\eleerssen\\Data\\InAs_Mesa_Test\\JJ_mesa_test_L1_D160_2.dat'\n",
    "voltage, current = loadData(filename1,0,3)\n",
    "dfL1D160 = pd.DataFrame({'current':current, 'voltage':voltage})\n",
    "dfL1D160['voltage']=dfL1D160['voltage'] *15/1000\n",
    "dfL1D160['resistance'] = dfL1D160['voltage']/dfL1D160['current']"
   ]
  },
  {
   "cell_type": "code",
   "execution_count": 254,
   "metadata": {
    "collapsed": true
   },
   "outputs": [],
   "source": [
    "filename1 = 'D:\\eleerssen\\Data\\InAs_Mesa_Test\\JJ_mesa_test_L2_D160_1.dat'\n",
    "voltage, current = loadData(filename1,0,3)\n",
    "dfL2D160 = pd.DataFrame({'current':current, 'voltage':voltage})\n",
    "dfL2D160['voltage']=dfL2D160['voltage'] *15/1000\n",
    "dfL2D160['resistance'] = dfL2D160['voltage']/dfL2D160['current']"
   ]
  },
  {
   "cell_type": "code",
   "execution_count": 257,
   "metadata": {
    "collapsed": true
   },
   "outputs": [],
   "source": [
    "filename1 = 'D:\\eleerssen\\Data\\InAs_Mesa_Test\\JJ_mesa_test_L5_D160_1.dat'\n",
    "voltage, current = loadData(filename1,0,3)\n",
    "dfL5D160 = pd.DataFrame({'current':current, 'voltage':voltage})\n",
    "dfL5D160['voltage']=dfL5D160['voltage'] *15/1000\n",
    "dfL5D160['resistance'] = dfL5D160['voltage']/dfL5D160['current']"
   ]
  },
  {
   "cell_type": "code",
   "execution_count": 259,
   "metadata": {
    "collapsed": true
   },
   "outputs": [],
   "source": [
    "filename1 = 'D:\\eleerssen\\Data\\InAs_Mesa_Test\\JJ_mesa_test_L10_D160_1.dat'\n",
    "voltage, current = loadData(filename1,0,3)\n",
    "dfL10D160 = pd.DataFrame({'current':current, 'voltage':voltage})\n",
    "dfL10D160['voltage']=dfL10D160['voltage'] *15/1000\n",
    "dfL10D160['resistance'] = dfL10D160['voltage']/dfL10D160['current']"
   ]
  },
  {
   "cell_type": "code",
   "execution_count": 261,
   "metadata": {
    "collapsed": true
   },
   "outputs": [],
   "source": [
    "filename1 = 'D:\\eleerssen\\Data\\InAs_Mesa_Test\\JJ_mesa_test_L20_D160_1.dat'\n",
    "voltage, current = loadData(filename1,0,3)\n",
    "dfL20D160 = pd.DataFrame({'current':current, 'voltage':voltage})\n",
    "dfL20D160['voltage']=dfL20D160['voltage'] *15/1000\n",
    "dfL20D160['resistance'] = dfL20D160['voltage']/dfL20D160['current']"
   ]
  },
  {
   "cell_type": "code",
   "execution_count": 267,
   "metadata": {},
   "outputs": [
    {
     "data": {
      "text/plain": [
       "<matplotlib.axes._subplots.AxesSubplot at 0x16ec8fd0>"
      ]
     },
     "execution_count": 267,
     "metadata": {},
     "output_type": "execute_result"
    },
    {
     "data": {
      "image/png": "[encoded data removed]",
      "text/plain": [
       "<matplotlib.figure.Figure at 0x16c69fd0>"
      ]
     },
     "metadata": {},
     "output_type": "display_data"
    },
    {
     "data": {
      "image/png": "[encoded data removed]",
      "text/plain": [
       "<matplotlib.figure.Figure at 0x16f11780>"
      ]
     },
     "metadata": {},
     "output_type": "display_data"
    }
   ],
   "source": [
    "ax = dfL5D160.plot(x='voltage',y='current')\n",
    "dfL10D160.plot(x='voltage',y='current',ax=ax)\n",
    "dfL5D160.plot(x='voltage',y='resistance')"
   ]
  },
  {
   "cell_type": "code",
   "execution_count": 94,
   "metadata": {},
   "outputs": [
    {
     "data": {
      "text/html": [
       "<div>\n",
       "<style>\n",
       "    .dataframe thead tr:only-child th {\n",
       "        text-align: right;\n",
       "    }\n",
       "\n",
       "    .dataframe thead th {\n",
       "        text-align: left;\n",
       "    }\n",
       "\n",
       "    .dataframe tbody tr th {\n",
       "        vertical-align: top;\n",
       "    }\n",
       "</style>\n",
       "<table border=\"1\" class=\"dataframe\">\n",
       "  <thead>\n",
       "    <tr style=\"text-align: right;\">\n",
       "      <th></th>\n",
       "      <th>L05 D72</th>\n",
       "    </tr>\n",
       "  </thead>\n",
       "  <tbody>\n",
       "    <tr>\n",
       "      <th>-28.56</th>\n",
       "      <td>2.498212e-10</td>\n",
       "    </tr>\n",
       "    <tr>\n",
       "      <th>-28.44</th>\n",
       "      <td>2.496771e-10</td>\n",
       "    </tr>\n",
       "    <tr>\n",
       "      <th>-28.32</th>\n",
       "      <td>2.499492e-10</td>\n",
       "    </tr>\n",
       "    <tr>\n",
       "      <th>-28.20</th>\n",
       "      <td>2.498807e-10</td>\n",
       "    </tr>\n",
       "    <tr>\n",
       "      <th>-28.08</th>\n",
       "      <td>2.496776e-10</td>\n",
       "    </tr>\n",
       "  </tbody>\n",
       "</table>\n",
       "</div>"
      ],
      "text/plain": [
       "             L05 D72\n",
       "-28.56  2.498212e-10\n",
       "-28.44  2.496771e-10\n",
       "-28.32  2.499492e-10\n",
       "-28.20  2.498807e-10\n",
       "-28.08  2.496776e-10"
      ]
     },
     "execution_count": 94,
     "metadata": {},
     "output_type": "execute_result"
    }
   ],
   "source": [
    "dfL05D72.head()"
   ]
  },
  {
   "cell_type": "code",
   "execution_count": null,
   "metadata": {
    "collapsed": true
   },
   "outputs": [],
   "source": []
  }
 ],
 "metadata": {
  "kernelspec": {
   "display_name": "Python 3",
   "language": "python",
   "name": "python3"
  },
  "language_info": {
   "codemirror_mode": {
    "name": "ipython",
    "version": 3
   },
   "file_extension": ".py",
   "mimetype": "text/x-python",
   "name": "python",
   "nbconvert_exporter": "python",
   "pygments_lexer": "ipython3",
   "version": "3.6.2"
  }
 },
 "nbformat": 4,
 "nbformat_minor": 2
}
